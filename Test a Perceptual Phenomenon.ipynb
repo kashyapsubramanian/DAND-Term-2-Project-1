{
 "cells": [
  {
   "cell_type": "markdown",
   "metadata": {},
   "source": [
    "### Analyzing the Stroop Effect\n",
    "\n",
    "\n",
    "### Background Information\n",
    "\n",
    "In a Stroop task, participants are presented with a list of words, with each word displayed in a color of ink. The participant’s task is to say out loud the color of the ink in which the word is printed. The task has two conditions: a congruent words condition, and an incongruent words condition. In the congruent words condition, the words being displayed are color words whose names match the colors in which they are printed: for example RED, BLUE. In the incongruent words condition, the words displayed are color words whose names do not match the colors in which they are printed: for example PURPLE, ORANGE. In each case, we measure the time it takes to name the ink colors in equally-sized lists. Each participant will go through and record a time from each condition.\n",
    "\n",
    "#### (1) What is the independent variable? What is the dependent variable?"
   ]
  },
  {
   "cell_type": "markdown",
   "metadata": {},
   "source": [
    "$\\\\\\qquad$ The independent variable is the variable that is not impacted by the other variables in the experiment. In our experiment, **CONGRUENCY** is the independent variable. This is the variable that we will modify to measure the change in outcome.\n",
    "\n",
    "The dependent variable is the variable that we would like to measure in the experiment. In our case, **RESPONSE TIME** is the dependent variable that we are measuring in the experiment."
   ]
  },
  {
   "cell_type": "markdown",
   "metadata": {},
   "source": [
    "#### (2) What is an appropriate set of hypotheses for this task? Specify your null and alternative hypotheses, and clearly define any notation used. Justify your choices."
   ]
  },
  {
   "cell_type": "markdown",
   "metadata": {},
   "source": [
    "$\\\\\\qquad$ We are measuring the **RESPONSE TIME** for individual participant between *congruent* and *incongruent* inputs. Let the population mean time taken for response be $\\mu$. For *congruent* input, the population mean response time is $\\mu_c$ and for *incongruent* input the population mean response time is $\\mu_i$.\n",
    "\n",
    "Then our NULL and ALTERNATIVE hypothesis will be\n",
    "\n",
    "H0: $\\mu_c$ - $\\mu_i$ = 0\n",
    "\n",
    "H1: $\\mu_c$ - $\\mu_i$ $\\neq$ 0"
   ]
  },
  {
   "cell_type": "markdown",
   "metadata": {},
   "source": [
    "#### (3) Report some descriptive statistics regarding this dataset. Include at least one measure of central tendency and at least one measure of variability. The name of the data file is 'stroopdata.csv'."
   ]
  },
  {
   "cell_type": "code",
   "execution_count": 1,
   "metadata": {},
   "outputs": [],
   "source": [
    "# import modules\n",
    "import numpy as np\n",
    "import pandas as pd\n",
    "import matplotlib.pyplot as plt\n",
    "import seaborn as sns\n",
    "import scipy.stats as stats\n",
    "\n",
    "# plot inline\n",
    "% matplotlib inline"
   ]
  },
  {
   "cell_type": "code",
   "execution_count": 2,
   "metadata": {},
   "outputs": [
    {
     "name": "stdout",
     "output_type": "stream",
     "text": [
      "<class 'pandas.core.frame.DataFrame'>\n",
      "RangeIndex: 24 entries, 0 to 23\n",
      "Data columns (total 2 columns):\n",
      "Congruent      24 non-null float64\n",
      "Incongruent    24 non-null float64\n",
      "dtypes: float64(2)\n",
      "memory usage: 464.0 bytes\n"
     ]
    }
   ],
   "source": [
    "# read CSV file\n",
    "df = pd.read_csv('stroopdata.csv')\n",
    "df.info()"
   ]
  },
  {
   "cell_type": "code",
   "execution_count": 3,
   "metadata": {},
   "outputs": [
    {
     "data": {
      "text/html": [
       "<div>\n",
       "<style>\n",
       "    .dataframe thead tr:only-child th {\n",
       "        text-align: right;\n",
       "    }\n",
       "\n",
       "    .dataframe thead th {\n",
       "        text-align: left;\n",
       "    }\n",
       "\n",
       "    .dataframe tbody tr th {\n",
       "        vertical-align: top;\n",
       "    }\n",
       "</style>\n",
       "<table border=\"1\" class=\"dataframe\">\n",
       "  <thead>\n",
       "    <tr style=\"text-align: right;\">\n",
       "      <th></th>\n",
       "      <th>Congruent</th>\n",
       "      <th>Incongruent</th>\n",
       "    </tr>\n",
       "  </thead>\n",
       "  <tbody>\n",
       "    <tr>\n",
       "      <th>0</th>\n",
       "      <td>12.079</td>\n",
       "      <td>19.278</td>\n",
       "    </tr>\n",
       "    <tr>\n",
       "      <th>1</th>\n",
       "      <td>16.791</td>\n",
       "      <td>18.741</td>\n",
       "    </tr>\n",
       "    <tr>\n",
       "      <th>2</th>\n",
       "      <td>9.564</td>\n",
       "      <td>21.214</td>\n",
       "    </tr>\n",
       "    <tr>\n",
       "      <th>3</th>\n",
       "      <td>8.630</td>\n",
       "      <td>15.687</td>\n",
       "    </tr>\n",
       "    <tr>\n",
       "      <th>4</th>\n",
       "      <td>14.669</td>\n",
       "      <td>22.803</td>\n",
       "    </tr>\n",
       "  </tbody>\n",
       "</table>\n",
       "</div>"
      ],
      "text/plain": [
       "   Congruent  Incongruent\n",
       "0     12.079       19.278\n",
       "1     16.791       18.741\n",
       "2      9.564       21.214\n",
       "3      8.630       15.687\n",
       "4     14.669       22.803"
      ]
     },
     "execution_count": 3,
     "metadata": {},
     "output_type": "execute_result"
    }
   ],
   "source": [
    "df.head()"
   ]
  },
  {
   "cell_type": "code",
   "execution_count": 4,
   "metadata": {},
   "outputs": [
    {
     "data": {
      "text/html": [
       "<div>\n",
       "<style>\n",
       "    .dataframe thead tr:only-child th {\n",
       "        text-align: right;\n",
       "    }\n",
       "\n",
       "    .dataframe thead th {\n",
       "        text-align: left;\n",
       "    }\n",
       "\n",
       "    .dataframe tbody tr th {\n",
       "        vertical-align: top;\n",
       "    }\n",
       "</style>\n",
       "<table border=\"1\" class=\"dataframe\">\n",
       "  <thead>\n",
       "    <tr style=\"text-align: right;\">\n",
       "      <th></th>\n",
       "      <th>Congruent</th>\n",
       "      <th>Incongruent</th>\n",
       "    </tr>\n",
       "  </thead>\n",
       "  <tbody>\n",
       "    <tr>\n",
       "      <th>count</th>\n",
       "      <td>24.000000</td>\n",
       "      <td>24.000000</td>\n",
       "    </tr>\n",
       "    <tr>\n",
       "      <th>mean</th>\n",
       "      <td>14.051125</td>\n",
       "      <td>22.015917</td>\n",
       "    </tr>\n",
       "    <tr>\n",
       "      <th>std</th>\n",
       "      <td>3.559358</td>\n",
       "      <td>4.797057</td>\n",
       "    </tr>\n",
       "    <tr>\n",
       "      <th>min</th>\n",
       "      <td>8.630000</td>\n",
       "      <td>15.687000</td>\n",
       "    </tr>\n",
       "    <tr>\n",
       "      <th>25%</th>\n",
       "      <td>11.895250</td>\n",
       "      <td>18.716750</td>\n",
       "    </tr>\n",
       "    <tr>\n",
       "      <th>50%</th>\n",
       "      <td>14.356500</td>\n",
       "      <td>21.017500</td>\n",
       "    </tr>\n",
       "    <tr>\n",
       "      <th>75%</th>\n",
       "      <td>16.200750</td>\n",
       "      <td>24.051500</td>\n",
       "    </tr>\n",
       "    <tr>\n",
       "      <th>max</th>\n",
       "      <td>22.328000</td>\n",
       "      <td>35.255000</td>\n",
       "    </tr>\n",
       "  </tbody>\n",
       "</table>\n",
       "</div>"
      ],
      "text/plain": [
       "       Congruent  Incongruent\n",
       "count  24.000000    24.000000\n",
       "mean   14.051125    22.015917\n",
       "std     3.559358     4.797057\n",
       "min     8.630000    15.687000\n",
       "25%    11.895250    18.716750\n",
       "50%    14.356500    21.017500\n",
       "75%    16.200750    24.051500\n",
       "max    22.328000    35.255000"
      ]
     },
     "execution_count": 4,
     "metadata": {},
     "output_type": "execute_result"
    }
   ],
   "source": [
    "df.describe()"
   ]
  },
  {
   "cell_type": "markdown",
   "metadata": {},
   "source": [
    "From the above we can identify the following:$\\\\$\n",
    "$\\\\$ **Observations on Measures of centre:**\n",
    "\n",
    "\\begin{enumerate}\n",
    "\\item Mean Response Time when words and colors are congruent: \\textbf{14.051125}\n",
    "\\item Mean Response Time when words and colors are not congruent: \\textbf{22.015917}\n",
    "\\item Median Response Time when words and colors are congruent: \\textbf{14.356500}\n",
    "\\item Median Response Time when words and colors are not congruent: \\textbf{21.017500}\n",
    "\\end{enumerate}"
   ]
  },
  {
   "cell_type": "code",
   "execution_count": 5,
   "metadata": {},
   "outputs": [
    {
     "data": {
      "text/plain": [
       "Congruent      13.698\n",
       "Incongruent    19.568\n",
       "dtype: float64"
      ]
     },
     "execution_count": 5,
     "metadata": {},
     "output_type": "execute_result"
    }
   ],
   "source": [
    "# Calculate Range\n",
    "df.max() - df.min()"
   ]
  },
  {
   "cell_type": "code",
   "execution_count": 6,
   "metadata": {},
   "outputs": [
    {
     "data": {
      "text/plain": [
       "Congruent      4.30550\n",
       "Incongruent    5.33475\n",
       "dtype: float64"
      ]
     },
     "execution_count": 6,
     "metadata": {},
     "output_type": "execute_result"
    }
   ],
   "source": [
    "# Calculate IQR\n",
    "df.quantile(0.75) - df.quantile(0.25)"
   ]
  },
  {
   "cell_type": "markdown",
   "metadata": {},
   "source": [
    "$\\\\$ **Observations on Measures of spread:**\n",
    "\n",
    "\\begin{enumerate}\n",
    "\\item Minimum Response Time for Congruent words: \\textbf{8.630000}\n",
    "\\item Minimum Response Time for Incongruent words: \\textbf{15.687000}\n",
    "\\item Maximum Response Time for Congruent words: \\textbf{22.328000}\n",
    "\\item Maximum Response Time for Incongruent words: \\textbf{35.255000}\n",
    "\\item Range for Congruent words: \\textbf{13.698}\n",
    "\\item Range for Incongruent words: \\textbf{19.568}\n",
    "\\item IQR for Congruent words: \\textbf{4.30550}\n",
    "\\item IQR for Incongruent words: \\textbf{5.33475}\n",
    "\\end{enumerate}"
   ]
  },
  {
   "cell_type": "markdown",
   "metadata": {},
   "source": [
    "#### (4) Provide one or two visualizations that show the distribution of the sample data. Write one or two sentences noting what you observe about the plot or plots."
   ]
  },
  {
   "cell_type": "code",
   "execution_count": 7,
   "metadata": {},
   "outputs": [
    {
     "data": {
      "image/png": "[encoded data removed]",
      "text/plain": [
       "<matplotlib.figure.Figure at 0x7f9403f730b8>"
      ]
     },
     "metadata": {
      "needs_background": "light"
     },
     "output_type": "display_data"
    }
   ],
   "source": [
    "# plot boxplot\n",
    "fig = df.boxplot(figsize=(10,8),fontsize=15);\n",
    "\n",
    "# set title & label\n",
    "plt.title('Response Time in Stroop experiment',fontsize=18);\n",
    "plt.ylabel('Response time',fontsize=15);\n",
    "\n",
    "# add space between title & plot\n",
    "ttl = fig.title;\n",
    "ttl.set_position([.5, 1.05]);"
   ]
  },
  {
   "cell_type": "markdown",
   "metadata": {},
   "source": [
    "We can observe:\n",
    "\n",
    "\n",
    "\\begin{itemize}\n",
    "\\item The mean and range of both Congruent and Incongruent are different as we saw earlier in data.\n",
    "\\item The data is a bit skewed in both Congruent and Incongruent results\n",
    "\\item Incongruent results are more spread out than Congruent results\n",
    "\\item There are 2 outliers in response time for Incongruent inputs\n",
    "\\end{itemize}"
   ]
  },
  {
   "cell_type": "code",
   "execution_count": 8,
   "metadata": {},
   "outputs": [
    {
     "data": {
      "image/png": "[encoded data removed]",
      "text/plain": [
       "<matplotlib.figure.Figure at 0x7f9401d10b70>"
      ]
     },
     "metadata": {
      "needs_background": "light"
     },
     "output_type": "display_data"
    }
   ],
   "source": [
    "# set plot size\n",
    "plt.subplots(figsize=(10,8));\n",
    "\n",
    "# plot histogram\n",
    "plt.hist(df.Congruent,alpha=0.5,color='indigo');\n",
    "plt.hist(df.Incongruent,alpha=0.5,color='orange');\n",
    "\n",
    "# set title, label & legend\n",
    "plt.title('Response Time - Histogram',fontsize=20);\n",
    "plt.xlabel('Response Time',fontsize=15);\n",
    "plt.legend(['Congruent','Incongruent'],loc='upper right',fontsize='x-large');"
   ]
  },
  {
   "cell_type": "markdown",
   "metadata": {},
   "source": [
    "Histogram proves our earlier observations. Ignoring the outliers, we can see that the data is normally distributed around the mean with some skew, for both Congruent and Incongruent inputs."
   ]
  },
  {
   "cell_type": "code",
   "execution_count": 9,
   "metadata": {},
   "outputs": [
    {
     "data": {
      "image/png": "[encoded data removed]",
      "text/plain": [
       "<matplotlib.figure.Figure at 0x7f9401ccb860>"
      ]
     },
     "metadata": {
      "needs_background": "light"
     },
     "output_type": "display_data"
    }
   ],
   "source": [
    "# set plot size\n",
    "plt.subplots(figsize=(10,8));\n",
    "\n",
    "# plot line plot\n",
    "plt.plot(df);\n",
    "\n",
    "# set title, label & legend\n",
    "plt.title('Experiment Response Time',fontsize=20);\n",
    "plt.ylabel('Response Time',fontsize=15);\n",
    "plt.legend(['Congruent','Incongruent'],loc='upper left',fontsize='x-large');"
   ]
  },
  {
   "cell_type": "markdown",
   "metadata": {},
   "source": [
    "Although the points are unrelated, the line plot provides an overall view of how congruent and incongruent response time values are. One can observe that the response time for Incongruent inputs are always higher than the response time for Congruent inputs"
   ]
  },
  {
   "cell_type": "markdown",
   "metadata": {},
   "source": [
    "#### (5)  Now, perform the statistical test and report your results. What is your confidence level or Type I error associated with your test? What is your conclusion regarding the hypotheses you set up? Did the results match up with your expectations?"
   ]
  },
  {
   "cell_type": "markdown",
   "metadata": {},
   "source": [
    "$\\\\$ Our observation contains the outcome of the experiment conducted on the same individual with different inputs. We will perform Paired T-test with our data since this will test significant difference between 2 related variables. We will perform this test for **95% confidence** level or **$\\alpha$ = 0.05**\n",
    "\n",
    "In order to perform Paired T-test, the following conditions must be met$\\\\$\n",
    "\\begin{enumerate}\n",
    "\\item Dependent variable must be continuous\n",
    "\\item Dependent variable must be approximately normally distributed\n",
    "\\item Dependent variable must not contain outliers\n",
    "\\end{enumerate}"
   ]
  },
  {
   "cell_type": "markdown",
   "metadata": {},
   "source": [
    "In the above conditions, we know$\\\\$\n",
    "\\begin{enumerate}\n",
    "\\item Response Time(DV) is continuous\n",
    "\\item Response Time(DV) is approximately normally distributed\n",
    "\\end{enumerate}\n",
    "\n",
    "But we also identified that Response Time has outliers from our boxplot. We need to make sure by analyzing data."
   ]
  },
  {
   "cell_type": "markdown",
   "metadata": {},
   "source": [
    "#### Normality:\n",
    "The Q-Q plot is used to identify the distribution of data. If all our data points are on the red line, then the data is normally distibuted."
   ]
  },
  {
   "cell_type": "code",
   "execution_count": 10,
   "metadata": {},
   "outputs": [
    {
     "data": {
      "image/png": "[encoded data removed]",
      "text/plain": [
       "<matplotlib.figure.Figure at 0x7f9401e5d3c8>"
      ]
     },
     "metadata": {
      "needs_background": "light"
     },
     "output_type": "display_data"
    }
   ],
   "source": [
    "stats.probplot(df.Congruent,plot=plt);"
   ]
  },
  {
   "cell_type": "markdown",
   "metadata": {},
   "source": [
    "We can see that there are data points that are not in the line. This denotes skew in the data which we already observed from our plots"
   ]
  },
  {
   "cell_type": "code",
   "execution_count": 11,
   "metadata": {},
   "outputs": [
    {
     "data": {
      "image/png": "[encoded data removed]",
      "text/plain": [
       "<matplotlib.figure.Figure at 0x7f9401de2c50>"
      ]
     },
     "metadata": {
      "needs_background": "light"
     },
     "output_type": "display_data"
    }
   ],
   "source": [
    "stats.probplot(df.Incongruent,plot=plt);"
   ]
  },
  {
   "cell_type": "markdown",
   "metadata": {},
   "source": [
    "The response time for Incongruent data is more skewed than the Congruent response time as observed from above plot."
   ]
  },
  {
   "cell_type": "markdown",
   "metadata": {},
   "source": [
    "#### Outliers:\n",
    "Let's also identify outliers in our data. To do this there are many methods. We will use IQR."
   ]
  },
  {
   "cell_type": "code",
   "execution_count": 12,
   "metadata": {},
   "outputs": [
    {
     "data": {
      "text/plain": [
       "Congruent      11.89525\n",
       "Incongruent    18.71675\n",
       "Name: 0.25, dtype: float64"
      ]
     },
     "execution_count": 12,
     "metadata": {},
     "output_type": "execute_result"
    }
   ],
   "source": [
    "# get 1st Quartile\n",
    "Q1 = df.quantile(0.25)\n",
    "Q1"
   ]
  },
  {
   "cell_type": "code",
   "execution_count": 13,
   "metadata": {},
   "outputs": [
    {
     "data": {
      "text/plain": [
       "Congruent      16.20075\n",
       "Incongruent    24.05150\n",
       "Name: 0.75, dtype: float64"
      ]
     },
     "execution_count": 13,
     "metadata": {},
     "output_type": "execute_result"
    }
   ],
   "source": [
    "# get 3rd Quartile\n",
    "Q3 = df.quantile(0.75)\n",
    "Q3"
   ]
  },
  {
   "cell_type": "code",
   "execution_count": 14,
   "metadata": {},
   "outputs": [
    {
     "data": {
      "text/plain": [
       "Congruent      4.30550\n",
       "Incongruent    5.33475\n",
       "dtype: float64"
      ]
     },
     "execution_count": 14,
     "metadata": {},
     "output_type": "execute_result"
    }
   ],
   "source": [
    "# get Inter Quartile Range\n",
    "IQR = Q3-Q1\n",
    "IQR"
   ]
  },
  {
   "cell_type": "code",
   "execution_count": 15,
   "metadata": {},
   "outputs": [
    {
     "data": {
      "text/html": [
       "<div>\n",
       "<style>\n",
       "    .dataframe thead tr:only-child th {\n",
       "        text-align: right;\n",
       "    }\n",
       "\n",
       "    .dataframe thead th {\n",
       "        text-align: left;\n",
       "    }\n",
       "\n",
       "    .dataframe tbody tr th {\n",
       "        vertical-align: top;\n",
       "    }\n",
       "</style>\n",
       "<table border=\"1\" class=\"dataframe\">\n",
       "  <thead>\n",
       "    <tr style=\"text-align: right;\">\n",
       "      <th></th>\n",
       "      <th>Congruent</th>\n",
       "      <th>Incongruent</th>\n",
       "    </tr>\n",
       "  </thead>\n",
       "  <tbody>\n",
       "  </tbody>\n",
       "</table>\n",
       "</div>"
      ],
      "text/plain": [
       "Empty DataFrame\n",
       "Columns: [Congruent, Incongruent]\n",
       "Index: []"
      ]
     },
     "execution_count": 15,
     "metadata": {},
     "output_type": "execute_result"
    }
   ],
   "source": [
    "# get values that lie outside the IQ range for Congruent input\n",
    "df[(df.Congruent < (Q1[0]-1.5*IQR[0])) | (df.Congruent > (Q3[0]+1.5*IQR[0]))]"
   ]
  },
  {
   "cell_type": "markdown",
   "metadata": {},
   "source": [
    "There are no outliers in data for Congruent input"
   ]
  },
  {
   "cell_type": "code",
   "execution_count": 16,
   "metadata": {},
   "outputs": [
    {
     "data": {
      "text/html": [
       "<div>\n",
       "<style>\n",
       "    .dataframe thead tr:only-child th {\n",
       "        text-align: right;\n",
       "    }\n",
       "\n",
       "    .dataframe thead th {\n",
       "        text-align: left;\n",
       "    }\n",
       "\n",
       "    .dataframe tbody tr th {\n",
       "        vertical-align: top;\n",
       "    }\n",
       "</style>\n",
       "<table border=\"1\" class=\"dataframe\">\n",
       "  <thead>\n",
       "    <tr style=\"text-align: right;\">\n",
       "      <th></th>\n",
       "      <th>Congruent</th>\n",
       "      <th>Incongruent</th>\n",
       "    </tr>\n",
       "  </thead>\n",
       "  <tbody>\n",
       "    <tr>\n",
       "      <th>14</th>\n",
       "      <td>18.200</td>\n",
       "      <td>35.255</td>\n",
       "    </tr>\n",
       "    <tr>\n",
       "      <th>19</th>\n",
       "      <td>12.369</td>\n",
       "      <td>34.288</td>\n",
       "    </tr>\n",
       "  </tbody>\n",
       "</table>\n",
       "</div>"
      ],
      "text/plain": [
       "    Congruent  Incongruent\n",
       "14     18.200       35.255\n",
       "19     12.369       34.288"
      ]
     },
     "execution_count": 16,
     "metadata": {},
     "output_type": "execute_result"
    }
   ],
   "source": [
    "# get values that lie outside the IQ range for Incongruent input\n",
    "df[(df.Incongruent < (Q1[1]-1.5*IQR[1])) | (df.Incongruent > (Q3[1]+1.5*IQR[1]))]"
   ]
  },
  {
   "cell_type": "markdown",
   "metadata": {},
   "source": [
    "We have 2 outliers in data for Incongruent input as we observed from our boxplot earlier. Our analysis proves it. Since 2 tailed t-test for dependent means is robust for violations in normal distribution, we will continue using the outliers in our analysis."
   ]
  },
  {
   "cell_type": "markdown",
   "metadata": {},
   "source": [
    "#### Paired T-test:\n",
    "We will perform Paired T-test in the dataset now."
   ]
  },
  {
   "cell_type": "code",
   "execution_count": 17,
   "metadata": {},
   "outputs": [],
   "source": [
    "df['Difference'] = df.Incongruent - df.Congruent"
   ]
  },
  {
   "cell_type": "code",
   "execution_count": 18,
   "metadata": {},
   "outputs": [
    {
     "data": {
      "text/plain": [
       "7.9647916666666658"
      ]
     },
     "execution_count": 18,
     "metadata": {},
     "output_type": "execute_result"
    }
   ],
   "source": [
    "diff_mean = df.Difference.mean()\n",
    "diff_mean"
   ]
  },
  {
   "cell_type": "code",
   "execution_count": 19,
   "metadata": {},
   "outputs": [],
   "source": [
    "df['Deviation'] = (df.Difference - diff_mean)**2"
   ]
  },
  {
   "cell_type": "code",
   "execution_count": 20,
   "metadata": {},
   "outputs": [
    {
     "data": {
      "text/plain": [
       "4.8648269103590556"
      ]
     },
     "execution_count": 20,
     "metadata": {},
     "output_type": "execute_result"
    }
   ],
   "source": [
    "deg_fre = 23\n",
    "std_dev = np.sqrt(df.Deviation.sum()/deg_fre)\n",
    "std_dev"
   ]
  },
  {
   "cell_type": "code",
   "execution_count": 21,
   "metadata": {},
   "outputs": [
    {
     "data": {
      "text/plain": [
       "0.99302863477834058"
      ]
     },
     "execution_count": 21,
     "metadata": {},
     "output_type": "execute_result"
    }
   ],
   "source": [
    "std_err = std_dev/np.sqrt(24)\n",
    "std_err"
   ]
  },
  {
   "cell_type": "markdown",
   "metadata": {},
   "source": [
    "Under the NULL hypothesis, the mean $\\mu$=0."
   ]
  },
  {
   "cell_type": "code",
   "execution_count": 22,
   "metadata": {},
   "outputs": [
    {
     "data": {
      "text/plain": [
       "8.020706944109957"
      ]
     },
     "execution_count": 22,
     "metadata": {},
     "output_type": "execute_result"
    }
   ],
   "source": [
    "t = diff_mean/std_err\n",
    "t"
   ]
  },
  {
   "cell_type": "code",
   "execution_count": 23,
   "metadata": {},
   "outputs": [],
   "source": [
    "t_critical = 2.069"
   ]
  },
  {
   "cell_type": "code",
   "execution_count": 24,
   "metadata": {},
   "outputs": [
    {
     "name": "stdout",
     "output_type": "stream",
     "text": [
      "T value from experiment: 8.02070694411\n",
      "T-critical value:  2.069\n"
     ]
    }
   ],
   "source": [
    "print('T value from experiment:',t)\n",
    "print('T-critical value: ',t_critical)"
   ]
  },
  {
   "cell_type": "markdown",
   "metadata": {},
   "source": [
    "The p-value for the t-value from our experiment at 95% confidence is less than 0.0001 which is statistically extremely significant.\n",
    "\n",
    "Our t-value is significantly greater than the t-critical value at 95% confidence, we reject the NULL hypothesis"
   ]
  },
  {
   "cell_type": "markdown",
   "metadata": {},
   "source": [
    "Let us also try the in-build t-test function in scipy.stats"
   ]
  },
  {
   "cell_type": "code",
   "execution_count": 25,
   "metadata": {},
   "outputs": [
    {
     "data": {
      "text/plain": [
       "Ttest_relResult(statistic=-8.020706944109957, pvalue=4.1030005857111781e-08)"
      ]
     },
     "execution_count": 25,
     "metadata": {},
     "output_type": "execute_result"
    }
   ],
   "source": [
    "# perform Paired T-test\n",
    "stats.ttest_rel(df.Congruent,df.Incongruent)"
   ]
  },
  {
   "cell_type": "markdown",
   "metadata": {},
   "source": [
    "The test results and manual calculation resulted in the same outcome"
   ]
  },
  {
   "cell_type": "code",
   "execution_count": 26,
   "metadata": {},
   "outputs": [
    {
     "name": "stdout",
     "output_type": "stream",
     "text": [
      "0.0000000410300059\n"
     ]
    }
   ],
   "source": [
    "# print p-value in decimal\n",
    "print('{:.16f}'.format(4.1030005857111781e-08))"
   ]
  },
  {
   "cell_type": "markdown",
   "metadata": {},
   "source": [
    "We can clearly see that the finding is statistically significant. The p-value is less than 0.05 by a huge margin. Hence we reject the NULL Hypothesis.\n",
    "\n",
    "\n",
    "**Result:**\n",
    "\\begin{enumerate}\n",
    "\\item We reject the NULL Hypothesis. i.e. $\\mu_c - \\mu_i\\neq$ 0\n",
    "\\item Mean Response Time for Incongruent input is greater than Mean Response Time for Congruent input. i.e. $\\mu_c \\lt \\mu_i$ \n",
    "\\end{enumerate}"
   ]
  },
  {
   "cell_type": "markdown",
   "metadata": {},
   "source": [
    "#### (6) Optional: What do you think is responsible for the effects observed? Can you think of an alternative or similar task that would result in a similar effect? Some research about the problem will be helpful for thinking about these two questions!"
   ]
  },
  {
   "cell_type": "markdown",
   "metadata": {},
   "source": [
    "$\\\\$ When we see objects, we process so many information about the object, related to the object and also related to the environment the object is present. We derive meaning from all this data combined.\n",
    "\n",
    "In Stroop's experiment, the participant or subject on whom the experiment is performed is first shown Congruent words with colors. The results are stored. This comes easy because as humans we are used to reading. It is habitual.\n",
    "\n",
    "But when words with Incongruent colors are shown and the subject/participant is asked to spell out the color, this goes against the habitual brain function of reading. In this case, the cognitive processing load to brain is increased because by habit brain reads the words but must process the color of the word which must be spelled out. There is conflict between 2 information sources which must be resolved. This slows the responses which is clearly visible from our data.\n",
    "\n",
    "Any action/process that requires going against habit or practice will lead to slowed response. Some tasks would be using words other than color like emotional words like 'joy', 'anger'...etc which is done in **'Emotional Stroop effect'** test in psychology. There is also **'Numerical Stroop effect'** where numbers are used instead of words. Also the size of the text play a role in 'Numerical Stroop effect'"
   ]
  }
 ],
 "metadata": {
  "kernelspec": {
   "display_name": "Python 3",
   "language": "python",
   "name": "python3"
  },
  "language_info": {
   "codemirror_mode": {
    "name": "ipython",
    "version": 3
   },
   "file_extension": ".py",
   "mimetype": "text/x-python",
   "name": "python",
   "nbconvert_exporter": "python",
   "pygments_lexer": "ipython3",
   "version": "3.6.3"
  }
 },
 "nbformat": 4,
 "nbformat_minor": 2
}
